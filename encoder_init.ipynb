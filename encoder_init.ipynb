{
 "cells": [
  {
   "cell_type": "code",
   "execution_count": 1,
   "metadata": {},
   "outputs": [
    {
     "ename": "ModuleNotFoundError",
     "evalue": "No module named 'autoencoder'",
     "output_type": "error",
     "traceback": [
      "\u001b[1;31m---------------------------------------------------------------------------\u001b[0m",
      "\u001b[1;31mModuleNotFoundError\u001b[0m                       Traceback (most recent call last)",
      "Cell \u001b[1;32mIn[1], line 3\u001b[0m\n\u001b[0;32m      1\u001b[0m \u001b[38;5;28;01mimport\u001b[39;00m \u001b[38;5;21;01msys\u001b[39;00m\n\u001b[0;32m      2\u001b[0m \u001b[38;5;28;01mimport\u001b[39;00m \u001b[38;5;21;01mtorch\u001b[39;00m\n\u001b[1;32m----> 3\u001b[0m \u001b[38;5;28;01mfrom\u001b[39;00m \u001b[38;5;21;01mautoencoder\u001b[39;00m\u001b[38;5;21;01m.\u001b[39;00m\u001b[38;5;21;01mencoder\u001b[39;00m \u001b[38;5;28;01mimport\u001b[39;00m VariationalEncoder\n\u001b[0;32m      5\u001b[0m \u001b[38;5;28;01mclass\u001b[39;00m \u001b[38;5;21;01mEncodeState\u001b[39;00m():\n\u001b[0;32m      6\u001b[0m     \u001b[38;5;28;01mdef\u001b[39;00m \u001b[38;5;21m__init__\u001b[39m(\u001b[38;5;28mself\u001b[39m, latent_dim):\n",
      "\u001b[1;31mModuleNotFoundError\u001b[0m: No module named 'autoencoder'"
     ]
    }
   ],
   "source": [
    "import sys\n",
    "import torch\n",
    "from autoencoder.encoder import VariationalEncoder\n",
    "\n",
    "class EncodeState():\n",
    "    def __init__(self, latent_dim):\n",
    "        self.latent_dim = latent_dim\n",
    "        self.device = torch.device(\"cuda\" if torch.cuda.is_available() else \"cpu\")\n",
    "\n",
    "        try:\n",
    "            # Attempt to initialize the VariationalEncoder\n",
    "            self.conv_encoder = VariationalEncoder(self.latent_dim).to(self.device)\n",
    "            self.conv_encoder.load()\n",
    "            self.conv_encoder.eval()\n",
    "\n",
    "            # Freeze the parameters of the encoder\n",
    "            for params in self.conv_encoder.parameters():\n",
    "                params.requires_grad = False\n",
    "        except Exception as e:\n",
    "            # Print an informative error message and exit gracefully\n",
    "            print(f'Error during encoder initialization: {e}')\n",
    "            sys.exit()\n",
    "\n",
    "    def process(self, observation):\n",
    "        try:\n",
    "            # Process image observation\n",
    "            image_obs = torch.tensor(observation[0], dtype=torch.float).to(self.device)\n",
    "            image_obs = image_obs.unsqueeze(0)\n",
    "            image_obs = image_obs.permute(0, 3, 2, 1)\n",
    "            image_obs = self.conv_encoder(image_obs)\n",
    "\n",
    "            # Process navigation observation\n",
    "            navigation_obs = torch.tensor(observation[1], dtype=torch.float).to(self.device)\n",
    "\n",
    "            # Concatenate processed observations\n",
    "            observation = torch.cat((image_obs.view(-1), navigation_obs), -1)\n",
    "\n",
    "            return observation\n",
    "        except Exception as e:\n",
    "            # Print an informative error message and return a default value or re-raise the exception\n",
    "            print(f'Error during observation processing: {e}')\n",
    "            # Consider returning a default value or re-raising the exception based on your requirements\n",
    "            raise e  # Re-raise the exception for better debugging or handling elsewhere\n"
   ]
  },
  {
   "cell_type": "code",
   "execution_count": null,
   "metadata": {},
   "outputs": [],
   "source": []
  }
 ],
 "metadata": {
  "colab": {
   "name": "Task1.ipynb",
   "provenance": []
  },
  "kernelspec": {
   "display_name": "Python 3 (ipykernel)",
   "language": "python",
   "name": "python3"
  },
  "language_info": {
   "codemirror_mode": {
    "name": "ipython",
    "version": 3
   },
   "file_extension": ".py",
   "mimetype": "text/x-python",
   "name": "python",
   "nbconvert_exporter": "python",
   "pygments_lexer": "ipython3",
   "version": "3.10.9"
  }
 },
 "nbformat": 4,
 "nbformat_minor": 1
}
