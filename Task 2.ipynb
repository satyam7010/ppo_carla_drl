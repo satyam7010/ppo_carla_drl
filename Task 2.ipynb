{
 "cells": [
  {
   "cell_type": "code",
   "execution_count": 1,
   "metadata": {},
   "outputs": [
    {
     "name": "stdout",
     "output_type": "stream",
     "text": [
      "Numbers: [8, 8, 3, 10]\n",
      "Solution: ((8 * 10) - 8) / 3\n"
     ]
    }
   ],
   "source": [
    "import itertools\n",
    "\n",
    "def solve_24(numbers):\n",
    "    operators = ['+', '-', '*', '/']\n",
    "    \n",
    "    # Generate all possible permutations of numbers\n",
    "    for nums in itertools.permutations(numbers):\n",
    "        # Generate all possible combinations of operators\n",
    "        for ops in itertools.product(operators, repeat=3):\n",
    "            expression = '(({} {} {}) {} {}) {} {}'.format(nums[0], ops[0], nums[1], ops[1], nums[2], ops[2], nums[3])\n",
    "            try:\n",
    "                # Evaluate the expression\n",
    "                result = eval(expression)\n",
    "                if abs(result - 24) < 1e-6:  # Check if result is close to 24\n",
    "                    return expression\n",
    "            except ZeroDivisionError:\n",
    "                pass  # Ignore division by zero errors\n",
    "    \n",
    "    return \"No solution found\"\n",
    "\n",
    "# Example usage:\n",
    "numbers = [8, 8, 3, 10]\n",
    "print(\"Numbers:\", numbers)\n",
    "print(\"Solution:\", solve_24(numbers))\n"
   ]
  },
  {
   "cell_type": "code",
   "execution_count": null,
   "metadata": {},
   "outputs": [],
   "source": []
  }
 ],
 "metadata": {
  "colab": {
   "name": "Task2.ipynb",
   "provenance": []
  },
  "kernelspec": {
   "display_name": "Python 3 (ipykernel)",
   "language": "python",
   "name": "python3"
  },
  "language_info": {
   "codemirror_mode": {
    "name": "ipython",
    "version": 3
   },
   "file_extension": ".py",
   "mimetype": "text/x-python",
   "name": "python",
   "nbconvert_exporter": "python",
   "pygments_lexer": "ipython3",
   "version": "3.10.9"
  }
 },
 "nbformat": 4,
 "nbformat_minor": 1
}
