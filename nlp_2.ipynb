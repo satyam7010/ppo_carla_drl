{
 "cells": [
  {
   "cell_type": "code",
   "execution_count": 3,
   "id": "fc98d028",
   "metadata": {},
   "outputs": [
    {
     "name": "stdout",
     "output_type": "stream",
     "text": [
      "Tokenized Words: ['Your', 'input', 'text', 'goes', 'here', '.', 'Replace', 'this', 'with', 'your', 'actual', 'text', '.']\n",
      "\n",
      "POS Tags: [('Your', 'PRP$'), ('input', 'NN'), ('text', 'NN'), ('goes', 'VBZ'), ('here', 'RB'), ('.', '.'), ('Replace', 'VB'), ('this', 'DT'), ('with', 'IN'), ('your', 'PRP$'), ('actual', 'JJ'), ('text', 'NN'), ('.', '.')]\n",
      "\n",
      "Named Entities: (S\n",
      "  Your/PRP$\n",
      "  input/NN\n",
      "  text/NN\n",
      "  goes/VBZ\n",
      "  here/RB\n",
      "  ./.\n",
      "  Replace/VB\n",
      "  this/DT\n",
      "  with/IN\n",
      "  your/PRP$\n",
      "  actual/JJ\n",
      "  text/NN\n",
      "  ./.)\n",
      "\n",
      "Named Entity Frequencies: Counter()\n"
     ]
    },
    {
     "name": "stderr",
     "output_type": "stream",
     "text": [
      "[nltk_data] Downloading package punkt to\n",
      "[nltk_data]     C:\\Users\\satya\\AppData\\Roaming\\nltk_data...\n",
      "[nltk_data]   Package punkt is already up-to-date!\n",
      "[nltk_data] Downloading package maxent_ne_chunker to\n",
      "[nltk_data]     C:\\Users\\satya\\AppData\\Roaming\\nltk_data...\n",
      "[nltk_data]   Package maxent_ne_chunker is already up-to-date!\n",
      "[nltk_data] Downloading package words to\n",
      "[nltk_data]     C:\\Users\\satya\\AppData\\Roaming\\nltk_data...\n",
      "[nltk_data]   Package words is already up-to-date!\n"
     ]
    }
   ],
   "source": [
    "import nltk\n",
    "from collections import Counter\n",
    "\n",
    "nltk.download('punkt')\n",
    "nltk.download('maxent_ne_chunker')\n",
    "nltk.download('words')\n",
    "\n",
    "def analyze_text(text):\n",
    "    words = nltk.word_tokenize(text)\n",
    "    pos_tags = nltk.pos_tag(words)\n",
    "    named_entities = nltk.ne_chunk(pos_tags)\n",
    "\n",
    "    entity_frequencies = Counter()\n",
    "    for tree in named_entities:\n",
    "        if isinstance(tree, nltk.Tree):\n",
    "            entity = \" \".join(word for word, tag in tree.leaves())\n",
    "            entity_frequencies[entity] += 1\n",
    "\n",
    "    return words, pos_tags, named_entities, entity_frequencies\n",
    "\n",
    "# Example usage\n",
    "text_to_analyze = \"Your input text goes here. Replace this with your actual text.\"\n",
    "words, pos_tags, named_entities, entity_frequencies = analyze_text(text_to_analyze)\n",
    "\n",
    "# Display the results\n",
    "print(\"Tokenized Words:\", words)\n",
    "print(\"\\nPOS Tags:\", pos_tags)\n",
    "print(\"\\nNamed Entities:\", named_entities)\n",
    "print(\"\\nNamed Entity Frequencies:\", entity_frequencies)\n"
   ]
  },
  {
   "cell_type": "code",
   "execution_count": null,
   "id": "4b6c4c3d",
   "metadata": {},
   "outputs": [],
   "source": []
  }
 ],
 "metadata": {
  "kernelspec": {
   "display_name": "Python 3 (ipykernel)",
   "language": "python",
   "name": "python3"
  },
  "language_info": {
   "codemirror_mode": {
    "name": "ipython",
    "version": 3
   },
   "file_extension": ".py",
   "mimetype": "text/x-python",
   "name": "python",
   "nbconvert_exporter": "python",
   "pygments_lexer": "ipython3",
   "version": "3.10.9"
  }
 },
 "nbformat": 4,
 "nbformat_minor": 5
}
